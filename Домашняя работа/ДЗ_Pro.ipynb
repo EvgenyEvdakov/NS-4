{
  "cells": [
    {
      "cell_type": "markdown",
      "metadata": {
        "id": "3hahJ-ONkfmR"
      },
      "source": [
        "Дорогой студент!\n",
        "\n",
        "В данном домашнем задании предоставляется возможность поработать с задачей по распознаванию позитивных и негативных отзывы людей по автомобилю Tesla. База для обучения содержит два текстовых файла с рядом строчных отзывов с мнением людей об автомобиле Tesla, соответственно негативного и позитивного содержания. Ссылка на скачивание базы уже включена в ноутбук задания.\n",
        "\n",
        "\n",
        "Необходимо выполнить следующие действия:\n",
        "\n",
        "  1. Загрузите саму базу по ссылке и подговьте файлы базы для обработки.\n",
        "  2. Создайте обучающую и проверочную выборки, обратив особое внимание на балансировку базы: количество примеров каждого класса должно быть примерно одного порядка.\n",
        "  3. Подготовьте выборки для обучения и обучите сеть. Добейтесь результата точности сети в 85-90% на проверочной выборке.\n",
        "   \n"
      ]
    },
    {
      "cell_type": "markdown",
      "metadata": {
        "id": "PUN4KxIPuUmM"
      },
      "source": [
        "**Импорт библиотек, загрузка базы и подготовка её к предобработке.**"
      ]
    },
    {
      "cell_type": "code",
      "execution_count": 74,
      "metadata": {
        "id": "xOYjMYA5bQD5"
      },
      "outputs": [],
      "source": [
        "# Работа с массивами данных\n",
        "import numpy as np\n",
        "\n",
        "# Работа с таблицами\n",
        "import pandas as pd\n",
        "\n",
        "# Отрисовка графиков\n",
        "import matplotlib.pyplot as plt\n",
        "\n",
        "# Функции-утилиты для работы с категориальными данными\n",
        "from tensorflow.keras import utils\n",
        "\n",
        "# Класс для конструирования последовательной модели нейронной сети\n",
        "from tensorflow.keras.models import Sequential\n",
        "\n",
        "# Основные слои\n",
        "from tensorflow.keras.layers import (\n",
        "    Input,\n",
        "    Dense,\n",
        "    Dropout,\n",
        "    SpatialDropout1D,\n",
        "    BatchNormalization,\n",
        "    Embedding,\n",
        "    Flatten,\n",
        "    Activation,\n",
        ")\n",
        "\n",
        "from tensorflow.keras.optimizers import Adam\n",
        "\n",
        "# Токенизатор для преобразование текстов в последовательности\n",
        "from tensorflow.keras.preprocessing.text import Tokenizer\n",
        "\n",
        "# Заполнение последовательностей до определенной длины\n",
        "from tensorflow.keras.preprocessing.sequence import pad_sequences\n",
        "\n",
        "# Загрузка датасетов из облака google\n",
        "import gdown\n",
        "\n",
        "# Для работы с файлами в Colaboratory\n",
        "import os\n",
        "\n",
        "# Отрисовка графиков\n",
        "import matplotlib.pyplot as plt\n",
        "\n",
        "%matplotlib inline"
      ]
    },
    {
      "cell_type": "code",
      "execution_count": 75,
      "metadata": {
        "colab": {
          "base_uri": "https://localhost:8080/",
          "height": 35
        },
        "id": "pBys9ajOW43u",
        "outputId": "f8d4f8ac-6bb6-4762-ba2e-cf00f18432af"
      },
      "outputs": [
        {
          "output_type": "execute_result",
          "data": {
            "text/plain": [
              "'tesla.zip'"
            ],
            "application/vnd.google.colaboratory.intrinsic+json": {
              "type": "string"
            }
          },
          "metadata": {},
          "execution_count": 75
        }
      ],
      "source": [
        "gdown.download('https://storage.yandexcloud.net/aiueducation/Content/base/l7/tesla.zip', None, quiet=True)"
      ]
    },
    {
      "cell_type": "markdown",
      "metadata": {
        "id": "Poe5lbs7ulKQ"
      },
      "source": [
        "**Деление общей базы отзывов на данные для обучения и проверки.**"
      ]
    },
    {
      "cell_type": "code",
      "execution_count": 76,
      "metadata": {
        "colab": {
          "base_uri": "https://localhost:8080/"
        },
        "id": "bBgC28cgulnc",
        "outputId": "5af6e4fa-d350-43ff-9d19-f601636ac897"
      },
      "outputs": [
        {
          "output_type": "stream",
          "name": "stdout",
          "text": [
            "'Негативный отзыв.txt'\t'Позитивный отзыв.txt'\n"
          ]
        }
      ],
      "source": [
        "# # Распаковка архива в папку writers\n",
        "!unzip -qo tesla.zip -d tesla/\n",
        "\n",
        "# # Просмотр содержимого папки\n",
        "!ls tesla"
      ]
    },
    {
      "cell_type": "markdown",
      "metadata": {
        "id": "o7VsrwF92JDM"
      },
      "source": [
        "**Загрузка текста из файлов, преобразование в одну строку.**"
      ]
    },
    {
      "cell_type": "code",
      "execution_count": 77,
      "metadata": {
        "id": "tHELyvOvzRBI"
      },
      "outputs": [],
      "source": [
        "# Объявляем функции для чтения файла. На вход отправляем путь к файлу\n",
        "def read_text(file_name):\n",
        "\n",
        "  # Задаем открытие нужного файла в режиме чтения\n",
        "  read_file = open(file_name, 'r')\n",
        "\n",
        "  # Читаем текст\n",
        "  text = read_file.read()\n",
        "\n",
        "  # Переносы строки переводим в пробелы\n",
        "  text = text.replace(\"\\n\", \" \")\n",
        "\n",
        "  # Возвращаем текст файла\n",
        "  return text\n",
        "\n",
        "# Объявляем интересующие нас классы\n",
        "class_names = [\"Негативный отзыв\", \"Позитивный отзыв\"]\n",
        "\n",
        "# Считаем количество классов\n",
        "num_classes = len(class_names)"
      ]
    },
    {
      "cell_type": "markdown",
      "metadata": {
        "id": "ih6e6VfO2o_t"
      },
      "source": [
        "**Тексты в один список.**"
      ]
    },
    {
      "cell_type": "code",
      "execution_count": 61,
      "metadata": {
        "colab": {
          "base_uri": "https://localhost:8080/"
        },
        "id": "9w4V4ztFznbG",
        "outputId": "7addf69d-1266-497a-bd2e-126efa4dca87"
      },
      "outputs": [
        {
          "output_type": "stream",
          "name": "stdout",
          "text": [
            "Негативный отзыв.txt добавлен в обучающую выборку\n",
            "Позитивный отзыв.txt добавлен в обучающую выборку\n"
          ]
        }
      ],
      "source": [
        "# Создаём список под тексты для обучающей выборки\n",
        "texts_list = []\n",
        "\n",
        "# Циклом проводим итерацию по текстовым файлам в папке отзывов\n",
        "for j in os.listdir('tesla/'):\n",
        "\n",
        "  # Добавляем каждый файл в общий список для выборки\n",
        "        texts_list.append(read_text('tesla/' + j))\n",
        "\n",
        "        # Выводим на экран сообщение о добавлении файла\n",
        "        print(j, 'добавлен в обучающую выборку')"
      ]
    },
    {
      "cell_type": "code",
      "execution_count": 78,
      "metadata": {
        "colab": {
          "base_uri": "https://localhost:8080/"
        },
        "id": "rvvdNpt40jRY",
        "outputId": "bf6b5733-7aa5-4e1d-c96b-22d12e934a04"
      },
      "outputs": [
        {
          "output_type": "stream",
          "name": "stdout",
          "text": [
            "Размеры текстов по порядку (в токенах):\n",
            "Текст №1: 134535\n",
            "Текст №2: 213381\n"
          ]
        }
      ],
      "source": [
        "# Узнаем объём каждого текста в словах и символах\n",
        "texts_len = [len(text) for text in texts_list]\n",
        "\n",
        "# Устанавливаем \"счётчик\" номера текста\n",
        "t_num = 0\n",
        "\n",
        "# Выводим на экран  информационное сообщение\n",
        "print(f'Размеры текстов по порядку (в токенах):')\n",
        "\n",
        "# Циклом проводим итерацию по списку с объёмами текстов\n",
        "for text_len in texts_len:\n",
        "\n",
        "  # Запускаем \"счётчик\" номера текста\n",
        "  t_num += 1\n",
        "\n",
        "  # Выводим на экран сообщение о номере и объёме текста\n",
        "  print(f'Текст №{t_num}: {text_len}')"
      ]
    },
    {
      "cell_type": "markdown",
      "metadata": {
        "id": "lpAQS_wB24TT"
      },
      "source": [
        "Далее рассчитаем, сколько символов составит 80% объёма каждого текста, чтобы по полученному индексу отделить эти 80% на обучающую и оставшиеся 20% на проверочную выборку. Эти значения необходимы для подготовки деления на выборки слайсингом по индексу."
      ]
    },
    {
      "cell_type": "code",
      "execution_count": 79,
      "metadata": {
        "colab": {
          "base_uri": "https://localhost:8080/"
        },
        "id": "0ur3bkOd3UTQ",
        "outputId": "1d001d4e-4d3c-41e6-b702-9b354e3669dd"
      },
      "outputs": [
        {
          "output_type": "stream",
          "name": "stdout",
          "text": [
            "Доля 80% от текста №1: 107628 символов\n",
            "Доля 80% от текста №2: 170705 символов\n"
          ]
        }
      ],
      "source": [
        "# Создаём список с вложенным циклом по длинам текстов, где i - 100% текста, i/5 - 20% текста\n",
        "train_len_shares = [(i - round(i/5)) for i in texts_len]\n",
        "\n",
        "# Устанавливаем \"счётчик\" номера текста\n",
        "t_num = 0\n",
        "\n",
        "# Циклом проводим итерацию по списку с объёмами текстов равными 80% от исходных\n",
        "for train_len_share in train_len_shares:\n",
        "\n",
        "  # Запускаем \"счётчик\" номера текста\n",
        "  t_num += 1\n",
        "\n",
        "  # Выводим на экран сообщение о номере и объёме текста в 80% от исходного\n",
        "  print(f'Доля 80% от текста №{t_num}: {train_len_share} символов')"
      ]
    },
    {
      "cell_type": "markdown",
      "metadata": {
        "id": "rVHFObMz5RsH"
      },
      "source": [
        "Импортируем функцию **chain()** для добавления текстов в каждую выборку.\n",
        "\n",
        "---\n",
        " Дополнительная информация: ([База знаний УИИ  - **\"Методы работы со списками: функция chain( )**\"](https://colab.research.google.com/drive/1KJKg_WYD8Vq63cciOMBEEAhFpyPv0A0V?usp=sharing/))\n",
        "\n",
        "---\n",
        "\n",
        "Производём нарезку (метод слайсинга) по полученному ранее индексу для формирования текстов отдельно для обучающей(80%) и проверочной(20%) выборок:"
      ]
    },
    {
      "cell_type": "code",
      "execution_count": 80,
      "metadata": {
        "id": "um_NZc9pzAXc"
      },
      "outputs": [],
      "source": [
        "from itertools import chain\n",
        "\n",
        "text_train = [] # Список для хранения обучающих фрагментов текстов\n",
        "text_validate = [] # Список для хранения валидационных (проверочных) фрагментов текстов\n",
        "\n",
        "# Проход по списку текстов и соответствующих длин обучающих частей\n",
        "for i, text in enumerate(texts_list):\n",
        "    text_train.append(text[:train_len_shares[i]])\n",
        "    text_validate.append(text[train_len_shares[i]:])"
      ]
    },
    {
      "cell_type": "code",
      "execution_count": 81,
      "metadata": {
        "id": "CCNJvQX9ezvy"
      },
      "outputs": [],
      "source": [
        "VOCAB_SIZE = 20_000\n",
        "WIN_SIZE = 1000\n",
        "WIN_HOPE = 150\n",
        "\n",
        "# Функция разбиения последовательности на отрезки скользящим окном\n",
        "# На входе - последовательность индексов, размер окна, шаг окна\n",
        "def split_sequence(sequence, win_size, hop):\n",
        "    # Последовательность разбивается на части до последнего полного окна\n",
        "    return [\n",
        "        sequence[i : i + win_size] for i in range(0, len(sequence) - win_size + 1, hop)\n",
        "    ]\n",
        "\n",
        "\n",
        "# Функция формирования выборок из последовательностей индексов\n",
        "# формирует выборку отрезков и соответствующих им меток классов в виде one hot encoding\n",
        "def vectorize_sequence(seq_list, win_size, hop):\n",
        "    # В списке последовательности следуют в порядке их классов\n",
        "    # Всего последовательностей в списке ровно столько, сколько классов\n",
        "    class_count = len(seq_list)\n",
        "\n",
        "    # Списки для исходных векторов и категориальных меток класса\n",
        "    x, y = [], []\n",
        "\n",
        "    # Для каждого класса:\n",
        "    for cls in range(class_count):\n",
        "        # Разбиение последовательности класса cls на отрезки\n",
        "        vectors = split_sequence(seq_list[cls], win_size, hop)\n",
        "        # Добавление отрезков в выборку\n",
        "        x += vectors\n",
        "        # Для всех отрезков класса cls добавление меток класса в виде OHE\n",
        "        y += [utils.to_categorical(cls, class_count)] * len(vectors)\n",
        "\n",
        "    # Возврат результатов как numpy-массивов\n",
        "    return np.array(x), np.array(y)"
      ]
    },
    {
      "cell_type": "code",
      "source": [
        "# Создание токенизатора\n",
        "tokenizer = Tokenizer(\n",
        "    num_words=VOCAB_SIZE,\n",
        "    filters='!\"#$%&()*+,-–—./…:;<=>?@[\\\\]^_`{|}~«»\\t\\n\\xa0\\ufeff',\n",
        "    lower=True,\n",
        "    split=\" \",\n",
        "    oov_token=\"неизвестное_слово\",\n",
        "    char_level=False,\n",
        ")\n",
        "# Обучение токенизатора на всём наборе текстов\n",
        "tokenizer.fit_on_texts(texts_list)\n",
        "# Преобразование обучающих текстов в последовательности индексов слов\n",
        "seq_train = tokenizer.texts_to_sequences(text_train)\n",
        "# Преобразование валидационных текстов в последовательности индексов слов\n",
        "seq_test = tokenizer.texts_to_sequences(text_validate)"
      ],
      "metadata": {
        "id": "eRcNeHfZfuG7"
      },
      "execution_count": 82,
      "outputs": []
    },
    {
      "cell_type": "code",
      "execution_count": 83,
      "metadata": {
        "id": "6sB4H9rZezvz"
      },
      "outputs": [],
      "source": [
        "# Формирование обучающей и тестовой выборки\n",
        "x_train, y_train = vectorize_sequence(seq_train, WIN_SIZE, WIN_HOPE)\n",
        "x_test, y_test = vectorize_sequence(seq_test, WIN_SIZE, WIN_HOPE)\n",
        "\n",
        "x_train = tokenizer.sequences_to_matrix(x_train.tolist()).astype(\"float16\")\n",
        "x_test = tokenizer.sequences_to_matrix(x_test.tolist()).astype(\"float16\")"
      ]
    },
    {
      "cell_type": "code",
      "source": [
        "# Преобразуем one-hot обратно в метки классов\n",
        "train_labels = np.argmax(y_train, axis=1)\n",
        "test_labels = np.argmax(y_test, axis=1)"
      ],
      "metadata": {
        "id": "17rzNg0pf6pR"
      },
      "execution_count": 84,
      "outputs": []
    },
    {
      "cell_type": "code",
      "execution_count": 85,
      "metadata": {
        "colab": {
          "base_uri": "https://localhost:8080/"
        },
        "id": "UWwc-3g9ezvz",
        "outputId": "822f74e8-dd20-4a00-8a1c-d6d0061cc734"
      },
      "outputs": [
        {
          "output_type": "stream",
          "name": "stdout",
          "text": [
            "Обучающая выборка:\n",
            "Класс 0: 107 окон\n",
            "Класс 1: 166 окон\n",
            "\n",
            "Тестовая выборка:\n",
            "Класс 0: 23 окон\n",
            "Класс 1: 38 окон\n"
          ]
        }
      ],
      "source": [
        "# Подсчёт с помощью bincount\n",
        "train_counts = np.bincount(train_labels)\n",
        "test_counts = np.bincount(test_labels)\n",
        "\n",
        "# Вывод результатов\n",
        "print(\"Обучающая выборка:\")\n",
        "for cls, count in enumerate(train_counts):\n",
        "    print(f\"Класс {cls}: {count} окон\")\n",
        "\n",
        "print(\"\\nТестовая выборка:\")\n",
        "for cls, count in enumerate(test_counts):\n",
        "    print(f\"Класс {cls}: {count} окон\")\n",
        "\n"
      ]
    },
    {
      "cell_type": "code",
      "execution_count": 96,
      "metadata": {
        "colab": {
          "base_uri": "https://localhost:8080/",
          "height": 303
        },
        "id": "5hlr28Idezvz",
        "outputId": "b97c72eb-551d-4a3d-a46c-dcf4e1d8d2d2"
      },
      "outputs": [
        {
          "output_type": "display_data",
          "data": {
            "text/plain": [
              "\u001b[1mModel: \"sequential_8\"\u001b[0m\n"
            ],
            "text/html": [
              "<pre style=\"white-space:pre;overflow-x:auto;line-height:normal;font-family:Menlo,'DejaVu Sans Mono',consolas,'Courier New',monospace\"><span style=\"font-weight: bold\">Model: \"sequential_8\"</span>\n",
              "</pre>\n"
            ]
          },
          "metadata": {}
        },
        {
          "output_type": "display_data",
          "data": {
            "text/plain": [
              "┏━━━━━━━━━━━━━━━━━━━━━━━━━━━━━━━━━┳━━━━━━━━━━━━━━━━━━━━━━━━┳━━━━━━━━━━━━━━━┓\n",
              "┃\u001b[1m \u001b[0m\u001b[1mLayer (type)                   \u001b[0m\u001b[1m \u001b[0m┃\u001b[1m \u001b[0m\u001b[1mOutput Shape          \u001b[0m\u001b[1m \u001b[0m┃\u001b[1m \u001b[0m\u001b[1m      Param #\u001b[0m\u001b[1m \u001b[0m┃\n",
              "┡━━━━━━━━━━━━━━━━━━━━━━━━━━━━━━━━━╇━━━━━━━━━━━━━━━━━━━━━━━━╇━━━━━━━━━━━━━━━┩\n",
              "│ dense_24 (\u001b[38;5;33mDense\u001b[0m)                │ (\u001b[38;5;45mNone\u001b[0m, \u001b[38;5;34m200\u001b[0m)            │     \u001b[38;5;34m4,000,200\u001b[0m │\n",
              "├─────────────────────────────────┼────────────────────────┼───────────────┤\n",
              "│ dropout_16 (\u001b[38;5;33mDropout\u001b[0m)            │ (\u001b[38;5;45mNone\u001b[0m, \u001b[38;5;34m200\u001b[0m)            │             \u001b[38;5;34m0\u001b[0m │\n",
              "├─────────────────────────────────┼────────────────────────┼───────────────┤\n",
              "│ dense_25 (\u001b[38;5;33mDense\u001b[0m)                │ (\u001b[38;5;45mNone\u001b[0m, \u001b[38;5;34m100\u001b[0m)            │        \u001b[38;5;34m20,100\u001b[0m │\n",
              "├─────────────────────────────────┼────────────────────────┼───────────────┤\n",
              "│ dropout_17 (\u001b[38;5;33mDropout\u001b[0m)            │ (\u001b[38;5;45mNone\u001b[0m, \u001b[38;5;34m100\u001b[0m)            │             \u001b[38;5;34m0\u001b[0m │\n",
              "├─────────────────────────────────┼────────────────────────┼───────────────┤\n",
              "│ dense_26 (\u001b[38;5;33mDense\u001b[0m)                │ (\u001b[38;5;45mNone\u001b[0m, \u001b[38;5;34m2\u001b[0m)              │           \u001b[38;5;34m202\u001b[0m │\n",
              "└─────────────────────────────────┴────────────────────────┴───────────────┘\n"
            ],
            "text/html": [
              "<pre style=\"white-space:pre;overflow-x:auto;line-height:normal;font-family:Menlo,'DejaVu Sans Mono',consolas,'Courier New',monospace\">┏━━━━━━━━━━━━━━━━━━━━━━━━━━━━━━━━━┳━━━━━━━━━━━━━━━━━━━━━━━━┳━━━━━━━━━━━━━━━┓\n",
              "┃<span style=\"font-weight: bold\"> Layer (type)                    </span>┃<span style=\"font-weight: bold\"> Output Shape           </span>┃<span style=\"font-weight: bold\">       Param # </span>┃\n",
              "┡━━━━━━━━━━━━━━━━━━━━━━━━━━━━━━━━━╇━━━━━━━━━━━━━━━━━━━━━━━━╇━━━━━━━━━━━━━━━┩\n",
              "│ dense_24 (<span style=\"color: #0087ff; text-decoration-color: #0087ff\">Dense</span>)                │ (<span style=\"color: #00d7ff; text-decoration-color: #00d7ff\">None</span>, <span style=\"color: #00af00; text-decoration-color: #00af00\">200</span>)            │     <span style=\"color: #00af00; text-decoration-color: #00af00\">4,000,200</span> │\n",
              "├─────────────────────────────────┼────────────────────────┼───────────────┤\n",
              "│ dropout_16 (<span style=\"color: #0087ff; text-decoration-color: #0087ff\">Dropout</span>)            │ (<span style=\"color: #00d7ff; text-decoration-color: #00d7ff\">None</span>, <span style=\"color: #00af00; text-decoration-color: #00af00\">200</span>)            │             <span style=\"color: #00af00; text-decoration-color: #00af00\">0</span> │\n",
              "├─────────────────────────────────┼────────────────────────┼───────────────┤\n",
              "│ dense_25 (<span style=\"color: #0087ff; text-decoration-color: #0087ff\">Dense</span>)                │ (<span style=\"color: #00d7ff; text-decoration-color: #00d7ff\">None</span>, <span style=\"color: #00af00; text-decoration-color: #00af00\">100</span>)            │        <span style=\"color: #00af00; text-decoration-color: #00af00\">20,100</span> │\n",
              "├─────────────────────────────────┼────────────────────────┼───────────────┤\n",
              "│ dropout_17 (<span style=\"color: #0087ff; text-decoration-color: #0087ff\">Dropout</span>)            │ (<span style=\"color: #00d7ff; text-decoration-color: #00d7ff\">None</span>, <span style=\"color: #00af00; text-decoration-color: #00af00\">100</span>)            │             <span style=\"color: #00af00; text-decoration-color: #00af00\">0</span> │\n",
              "├─────────────────────────────────┼────────────────────────┼───────────────┤\n",
              "│ dense_26 (<span style=\"color: #0087ff; text-decoration-color: #0087ff\">Dense</span>)                │ (<span style=\"color: #00d7ff; text-decoration-color: #00d7ff\">None</span>, <span style=\"color: #00af00; text-decoration-color: #00af00\">2</span>)              │           <span style=\"color: #00af00; text-decoration-color: #00af00\">202</span> │\n",
              "└─────────────────────────────────┴────────────────────────┴───────────────┘\n",
              "</pre>\n"
            ]
          },
          "metadata": {}
        },
        {
          "output_type": "display_data",
          "data": {
            "text/plain": [
              "\u001b[1m Total params: \u001b[0m\u001b[38;5;34m4,020,502\u001b[0m (15.34 MB)\n"
            ],
            "text/html": [
              "<pre style=\"white-space:pre;overflow-x:auto;line-height:normal;font-family:Menlo,'DejaVu Sans Mono',consolas,'Courier New',monospace\"><span style=\"font-weight: bold\"> Total params: </span><span style=\"color: #00af00; text-decoration-color: #00af00\">4,020,502</span> (15.34 MB)\n",
              "</pre>\n"
            ]
          },
          "metadata": {}
        },
        {
          "output_type": "display_data",
          "data": {
            "text/plain": [
              "\u001b[1m Trainable params: \u001b[0m\u001b[38;5;34m4,020,502\u001b[0m (15.34 MB)\n"
            ],
            "text/html": [
              "<pre style=\"white-space:pre;overflow-x:auto;line-height:normal;font-family:Menlo,'DejaVu Sans Mono',consolas,'Courier New',monospace\"><span style=\"font-weight: bold\"> Trainable params: </span><span style=\"color: #00af00; text-decoration-color: #00af00\">4,020,502</span> (15.34 MB)\n",
              "</pre>\n"
            ]
          },
          "metadata": {}
        },
        {
          "output_type": "display_data",
          "data": {
            "text/plain": [
              "\u001b[1m Non-trainable params: \u001b[0m\u001b[38;5;34m0\u001b[0m (0.00 B)\n"
            ],
            "text/html": [
              "<pre style=\"white-space:pre;overflow-x:auto;line-height:normal;font-family:Menlo,'DejaVu Sans Mono',consolas,'Courier New',monospace\"><span style=\"font-weight: bold\"> Non-trainable params: </span><span style=\"color: #00af00; text-decoration-color: #00af00\">0</span> (0.00 B)\n",
              "</pre>\n"
            ]
          },
          "metadata": {}
        }
      ],
      "source": [
        "# Создание модели\n",
        "model = Sequential(\n",
        "    [\n",
        "        Input((VOCAB_SIZE,)),\n",
        "        Dense(200, activation=\"relu\"),\n",
        "        Dropout(0.4),\n",
        "        Dense(100),\n",
        "        Dropout(0.4),\n",
        "        Dense(2, activation=\"softmax\"),\n",
        "    ]\n",
        ")\n",
        "\n",
        "model.compile(\n",
        "    optimizer=Adam(learning_rate=0.001),\n",
        "    loss=\"categorical_crossentropy\",\n",
        "    metrics=[\"accuracy\"],\n",
        ")\n",
        "\n",
        "model.summary()\n"
      ]
    },
    {
      "cell_type": "code",
      "execution_count": 97,
      "metadata": {
        "colab": {
          "base_uri": "https://localhost:8080/"
        },
        "id": "fCGbQErKezvz",
        "outputId": "85343b22-faac-44ea-a902-186501ec1c4b"
      },
      "outputs": [
        {
          "output_type": "stream",
          "name": "stdout",
          "text": [
            "Epoch 1/150\n",
            "\u001b[1m18/18\u001b[0m \u001b[32m━━━━━━━━━━━━━━━━━━━━\u001b[0m\u001b[37m\u001b[0m \u001b[1m3s\u001b[0m 91ms/step - accuracy: 0.8913 - loss: 0.2424 - val_accuracy: 0.8033 - val_loss: 0.3875\n",
            "Epoch 2/150\n",
            "\u001b[1m18/18\u001b[0m \u001b[32m━━━━━━━━━━━━━━━━━━━━\u001b[0m\u001b[37m\u001b[0m \u001b[1m2s\u001b[0m 46ms/step - accuracy: 1.0000 - loss: 1.3132e-06 - val_accuracy: 0.6721 - val_loss: 0.6022\n",
            "Epoch 3/150\n",
            "\u001b[1m18/18\u001b[0m \u001b[32m━━━━━━━━━━━━━━━━━━━━\u001b[0m\u001b[37m\u001b[0m \u001b[1m1s\u001b[0m 51ms/step - accuracy: 1.0000 - loss: 5.5735e-08 - val_accuracy: 0.6721 - val_loss: 0.6491\n",
            "Epoch 4/150\n",
            "\u001b[1m18/18\u001b[0m \u001b[32m━━━━━━━━━━━━━━━━━━━━\u001b[0m\u001b[37m\u001b[0m \u001b[1m1s\u001b[0m 49ms/step - accuracy: 1.0000 - loss: 7.6660e-07 - val_accuracy: 0.6721 - val_loss: 0.6468\n",
            "Epoch 5/150\n",
            "\u001b[1m18/18\u001b[0m \u001b[32m━━━━━━━━━━━━━━━━━━━━\u001b[0m\u001b[37m\u001b[0m \u001b[1m1s\u001b[0m 46ms/step - accuracy: 1.0000 - loss: 3.0429e-07 - val_accuracy: 0.6721 - val_loss: 0.6335\n",
            "Epoch 6/150\n",
            "\u001b[1m18/18\u001b[0m \u001b[32m━━━━━━━━━━━━━━━━━━━━\u001b[0m\u001b[37m\u001b[0m \u001b[1m1s\u001b[0m 48ms/step - accuracy: 1.0000 - loss: 6.8352e-08 - val_accuracy: 0.6721 - val_loss: 0.6271\n",
            "Epoch 7/150\n",
            "\u001b[1m18/18\u001b[0m \u001b[32m━━━━━━━━━━━━━━━━━━━━\u001b[0m\u001b[37m\u001b[0m \u001b[1m1s\u001b[0m 49ms/step - accuracy: 1.0000 - loss: 2.0708e-07 - val_accuracy: 0.6721 - val_loss: 0.6226\n",
            "Epoch 8/150\n",
            "\u001b[1m18/18\u001b[0m \u001b[32m━━━━━━━━━━━━━━━━━━━━\u001b[0m\u001b[37m\u001b[0m \u001b[1m1s\u001b[0m 50ms/step - accuracy: 1.0000 - loss: 2.3972e-07 - val_accuracy: 0.6721 - val_loss: 0.6179\n",
            "Epoch 9/150\n",
            "\u001b[1m18/18\u001b[0m \u001b[32m━━━━━━━━━━━━━━━━━━━━\u001b[0m\u001b[37m\u001b[0m \u001b[1m1s\u001b[0m 48ms/step - accuracy: 1.0000 - loss: 1.9345e-07 - val_accuracy: 0.6885 - val_loss: 0.6000\n",
            "Epoch 10/150\n",
            "\u001b[1m18/18\u001b[0m \u001b[32m━━━━━━━━━━━━━━━━━━━━\u001b[0m\u001b[37m\u001b[0m \u001b[1m1s\u001b[0m 72ms/step - accuracy: 1.0000 - loss: 1.1960e-07 - val_accuracy: 0.7049 - val_loss: 0.5893\n",
            "Epoch 11/150\n",
            "\u001b[1m18/18\u001b[0m \u001b[32m━━━━━━━━━━━━━━━━━━━━\u001b[0m\u001b[37m\u001b[0m \u001b[1m1s\u001b[0m 67ms/step - accuracy: 1.0000 - loss: 4.9038e-08 - val_accuracy: 0.7213 - val_loss: 0.5849\n",
            "Epoch 12/150\n",
            "\u001b[1m18/18\u001b[0m \u001b[32m━━━━━━━━━━━━━━━━━━━━\u001b[0m\u001b[37m\u001b[0m \u001b[1m1s\u001b[0m 54ms/step - accuracy: 1.0000 - loss: 2.4991e-08 - val_accuracy: 0.7213 - val_loss: 0.5806\n",
            "Epoch 13/150\n",
            "\u001b[1m18/18\u001b[0m \u001b[32m━━━━━━━━━━━━━━━━━━━━\u001b[0m\u001b[37m\u001b[0m \u001b[1m1s\u001b[0m 48ms/step - accuracy: 1.0000 - loss: 5.1684e-07 - val_accuracy: 0.7213 - val_loss: 0.5737\n",
            "Epoch 14/150\n",
            "\u001b[1m18/18\u001b[0m \u001b[32m━━━━━━━━━━━━━━━━━━━━\u001b[0m\u001b[37m\u001b[0m \u001b[1m1s\u001b[0m 50ms/step - accuracy: 1.0000 - loss: 2.2282e-07 - val_accuracy: 0.7213 - val_loss: 0.5673\n",
            "Epoch 15/150\n",
            "\u001b[1m18/18\u001b[0m \u001b[32m━━━━━━━━━━━━━━━━━━━━\u001b[0m\u001b[37m\u001b[0m \u001b[1m1s\u001b[0m 48ms/step - accuracy: 1.0000 - loss: 9.7358e-08 - val_accuracy: 0.7377 - val_loss: 0.5620\n",
            "Epoch 16/150\n",
            "\u001b[1m18/18\u001b[0m \u001b[32m━━━━━━━━━━━━━━━━━━━━\u001b[0m\u001b[37m\u001b[0m \u001b[1m1s\u001b[0m 49ms/step - accuracy: 1.0000 - loss: 2.5959e-08 - val_accuracy: 0.7377 - val_loss: 0.5603\n",
            "Epoch 17/150\n",
            "\u001b[1m18/18\u001b[0m \u001b[32m━━━━━━━━━━━━━━━━━━━━\u001b[0m\u001b[37m\u001b[0m \u001b[1m1s\u001b[0m 48ms/step - accuracy: 1.0000 - loss: 1.5243e-08 - val_accuracy: 0.7377 - val_loss: 0.5601\n",
            "Epoch 18/150\n",
            "\u001b[1m18/18\u001b[0m \u001b[32m━━━━━━━━━━━━━━━━━━━━\u001b[0m\u001b[37m\u001b[0m \u001b[1m1s\u001b[0m 49ms/step - accuracy: 1.0000 - loss: 1.0623e-06 - val_accuracy: 0.7049 - val_loss: 0.5746\n",
            "Epoch 19/150\n",
            "\u001b[1m18/18\u001b[0m \u001b[32m━━━━━━━━━━━━━━━━━━━━\u001b[0m\u001b[37m\u001b[0m \u001b[1m1s\u001b[0m 50ms/step - accuracy: 1.0000 - loss: 1.8615e-07 - val_accuracy: 0.6885 - val_loss: 0.5860\n",
            "Epoch 20/150\n",
            "\u001b[1m18/18\u001b[0m \u001b[32m━━━━━━━━━━━━━━━━━━━━\u001b[0m\u001b[37m\u001b[0m \u001b[1m1s\u001b[0m 49ms/step - accuracy: 1.0000 - loss: 5.0860e-08 - val_accuracy: 0.6885 - val_loss: 0.5869\n",
            "Epoch 21/150\n",
            "\u001b[1m18/18\u001b[0m \u001b[32m━━━━━━━━━━━━━━━━━━━━\u001b[0m\u001b[37m\u001b[0m \u001b[1m1s\u001b[0m 48ms/step - accuracy: 1.0000 - loss: 6.6519e-08 - val_accuracy: 0.6885 - val_loss: 0.5863\n",
            "Epoch 22/150\n",
            "\u001b[1m18/18\u001b[0m \u001b[32m━━━━━━━━━━━━━━━━━━━━\u001b[0m\u001b[37m\u001b[0m \u001b[1m2s\u001b[0m 72ms/step - accuracy: 1.0000 - loss: 3.8246e-08 - val_accuracy: 0.6885 - val_loss: 0.5821\n",
            "Epoch 23/150\n",
            "\u001b[1m18/18\u001b[0m \u001b[32m━━━━━━━━━━━━━━━━━━━━\u001b[0m\u001b[37m\u001b[0m \u001b[1m2s\u001b[0m 50ms/step - accuracy: 1.0000 - loss: 1.2586e-08 - val_accuracy: 0.6885 - val_loss: 0.5798\n",
            "Epoch 24/150\n",
            "\u001b[1m18/18\u001b[0m \u001b[32m━━━━━━━━━━━━━━━━━━━━\u001b[0m\u001b[37m\u001b[0m \u001b[1m1s\u001b[0m 50ms/step - accuracy: 1.0000 - loss: 3.1494e-07 - val_accuracy: 0.7213 - val_loss: 0.5738\n",
            "Epoch 25/150\n",
            "\u001b[1m18/18\u001b[0m \u001b[32m━━━━━━━━━━━━━━━━━━━━\u001b[0m\u001b[37m\u001b[0m \u001b[1m1s\u001b[0m 48ms/step - accuracy: 1.0000 - loss: 1.3209e-08 - val_accuracy: 0.7213 - val_loss: 0.5707\n",
            "Epoch 26/150\n",
            "\u001b[1m18/18\u001b[0m \u001b[32m━━━━━━━━━━━━━━━━━━━━\u001b[0m\u001b[37m\u001b[0m \u001b[1m1s\u001b[0m 49ms/step - accuracy: 1.0000 - loss: 2.3044e-07 - val_accuracy: 0.7213 - val_loss: 0.5661\n",
            "Epoch 27/150\n",
            "\u001b[1m18/18\u001b[0m \u001b[32m━━━━━━━━━━━━━━━━━━━━\u001b[0m\u001b[37m\u001b[0m \u001b[1m1s\u001b[0m 50ms/step - accuracy: 1.0000 - loss: 1.2041e-08 - val_accuracy: 0.7213 - val_loss: 0.5654\n",
            "Epoch 28/150\n",
            "\u001b[1m18/18\u001b[0m \u001b[32m━━━━━━━━━━━━━━━━━━━━\u001b[0m\u001b[37m\u001b[0m \u001b[1m1s\u001b[0m 48ms/step - accuracy: 1.0000 - loss: 5.2555e-08 - val_accuracy: 0.7213 - val_loss: 0.5625\n",
            "Epoch 29/150\n",
            "\u001b[1m18/18\u001b[0m \u001b[32m━━━━━━━━━━━━━━━━━━━━\u001b[0m\u001b[37m\u001b[0m \u001b[1m1s\u001b[0m 47ms/step - accuracy: 1.0000 - loss: 7.9853e-08 - val_accuracy: 0.7213 - val_loss: 0.5600\n",
            "Epoch 30/150\n",
            "\u001b[1m18/18\u001b[0m \u001b[32m━━━━━━━━━━━━━━━━━━━━\u001b[0m\u001b[37m\u001b[0m \u001b[1m1s\u001b[0m 48ms/step - accuracy: 1.0000 - loss: 5.9241e-08 - val_accuracy: 0.7213 - val_loss: 0.5614\n",
            "Epoch 31/150\n",
            "\u001b[1m18/18\u001b[0m \u001b[32m━━━━━━━━━━━━━━━━━━━━\u001b[0m\u001b[37m\u001b[0m \u001b[1m2s\u001b[0m 82ms/step - accuracy: 1.0000 - loss: 1.3483e-08 - val_accuracy: 0.7213 - val_loss: 0.5618\n",
            "Epoch 32/150\n",
            "\u001b[1m18/18\u001b[0m \u001b[32m━━━━━━━━━━━━━━━━━━━━\u001b[0m\u001b[37m\u001b[0m \u001b[1m1s\u001b[0m 75ms/step - accuracy: 1.0000 - loss: 3.1995e-07 - val_accuracy: 0.7377 - val_loss: 0.5567\n",
            "Epoch 33/150\n",
            "\u001b[1m18/18\u001b[0m \u001b[32m━━━━━━━━━━━━━━━━━━━━\u001b[0m\u001b[37m\u001b[0m \u001b[1m1s\u001b[0m 49ms/step - accuracy: 1.0000 - loss: 5.8551e-08 - val_accuracy: 0.7377 - val_loss: 0.5576\n",
            "Epoch 34/150\n",
            "\u001b[1m18/18\u001b[0m \u001b[32m━━━━━━━━━━━━━━━━━━━━\u001b[0m\u001b[37m\u001b[0m \u001b[1m1s\u001b[0m 54ms/step - accuracy: 1.0000 - loss: 3.1614e-06 - val_accuracy: 0.7377 - val_loss: 0.5398\n",
            "Epoch 35/150\n",
            "\u001b[1m18/18\u001b[0m \u001b[32m━━━━━━━━━━━━━━━━━━━━\u001b[0m\u001b[37m\u001b[0m \u001b[1m1s\u001b[0m 60ms/step - accuracy: 1.0000 - loss: 2.2041e-09 - val_accuracy: 0.7377 - val_loss: 0.5370\n",
            "Epoch 36/150\n",
            "\u001b[1m18/18\u001b[0m \u001b[32m━━━━━━━━━━━━━━━━━━━━\u001b[0m\u001b[37m\u001b[0m \u001b[1m1s\u001b[0m 58ms/step - accuracy: 1.0000 - loss: 9.7462e-08 - val_accuracy: 0.7377 - val_loss: 0.5418\n",
            "Epoch 37/150\n",
            "\u001b[1m18/18\u001b[0m \u001b[32m━━━━━━━━━━━━━━━━━━━━\u001b[0m\u001b[37m\u001b[0m \u001b[1m1s\u001b[0m 50ms/step - accuracy: 1.0000 - loss: 1.0897e-07 - val_accuracy: 0.7377 - val_loss: 0.5379\n",
            "Epoch 38/150\n",
            "\u001b[1m18/18\u001b[0m \u001b[32m━━━━━━━━━━━━━━━━━━━━\u001b[0m\u001b[37m\u001b[0m \u001b[1m1s\u001b[0m 51ms/step - accuracy: 1.0000 - loss: 9.8560e-08 - val_accuracy: 0.7377 - val_loss: 0.5320\n",
            "Epoch 39/150\n",
            "\u001b[1m18/18\u001b[0m \u001b[32m━━━━━━━━━━━━━━━━━━━━\u001b[0m\u001b[37m\u001b[0m \u001b[1m1s\u001b[0m 49ms/step - accuracy: 1.0000 - loss: 2.8143e-08 - val_accuracy: 0.7377 - val_loss: 0.5304\n",
            "Epoch 40/150\n",
            "\u001b[1m18/18\u001b[0m \u001b[32m━━━━━━━━━━━━━━━━━━━━\u001b[0m\u001b[37m\u001b[0m \u001b[1m1s\u001b[0m 54ms/step - accuracy: 1.0000 - loss: 8.2610e-09 - val_accuracy: 0.7377 - val_loss: 0.5297\n",
            "Epoch 41/150\n",
            "\u001b[1m18/18\u001b[0m \u001b[32m━━━━━━━━━━━━━━━━━━━━\u001b[0m\u001b[37m\u001b[0m \u001b[1m1s\u001b[0m 63ms/step - accuracy: 1.0000 - loss: 1.5002e-07 - val_accuracy: 0.7377 - val_loss: 0.5254\n",
            "Epoch 42/150\n",
            "\u001b[1m18/18\u001b[0m \u001b[32m━━━━━━━━━━━━━━━━━━━━\u001b[0m\u001b[37m\u001b[0m \u001b[1m1s\u001b[0m 75ms/step - accuracy: 1.0000 - loss: 1.2888e-08 - val_accuracy: 0.7541 - val_loss: 0.5226\n",
            "Epoch 43/150\n",
            "\u001b[1m18/18\u001b[0m \u001b[32m━━━━━━━━━━━━━━━━━━━━\u001b[0m\u001b[37m\u001b[0m \u001b[1m2s\u001b[0m 51ms/step - accuracy: 1.0000 - loss: 8.5391e-10 - val_accuracy: 0.7541 - val_loss: 0.5221\n",
            "Epoch 44/150\n",
            "\u001b[1m18/18\u001b[0m \u001b[32m━━━━━━━━━━━━━━━━━━━━\u001b[0m\u001b[37m\u001b[0m \u001b[1m1s\u001b[0m 50ms/step - accuracy: 1.0000 - loss: 1.8318e-08 - val_accuracy: 0.7541 - val_loss: 0.5214\n",
            "Epoch 45/150\n",
            "\u001b[1m18/18\u001b[0m \u001b[32m━━━━━━━━━━━━━━━━━━━━\u001b[0m\u001b[37m\u001b[0m \u001b[1m1s\u001b[0m 48ms/step - accuracy: 1.0000 - loss: 4.2451e-08 - val_accuracy: 0.7541 - val_loss: 0.5207\n",
            "Epoch 46/150\n",
            "\u001b[1m18/18\u001b[0m \u001b[32m━━━━━━━━━━━━━━━━━━━━\u001b[0m\u001b[37m\u001b[0m \u001b[1m1s\u001b[0m 50ms/step - accuracy: 1.0000 - loss: 2.6262e-06 - val_accuracy: 0.7869 - val_loss: 0.4571\n",
            "Epoch 47/150\n",
            "\u001b[1m18/18\u001b[0m \u001b[32m━━━━━━━━━━━━━━━━━━━━\u001b[0m\u001b[37m\u001b[0m \u001b[1m1s\u001b[0m 59ms/step - accuracy: 1.0000 - loss: 4.2240e-08 - val_accuracy: 0.8033 - val_loss: 0.4097\n",
            "Epoch 48/150\n",
            "\u001b[1m18/18\u001b[0m \u001b[32m━━━━━━━━━━━━━━━━━━━━\u001b[0m\u001b[37m\u001b[0m \u001b[1m1s\u001b[0m 47ms/step - accuracy: 1.0000 - loss: 1.8086e-07 - val_accuracy: 0.8197 - val_loss: 0.4015\n",
            "Epoch 49/150\n",
            "\u001b[1m18/18\u001b[0m \u001b[32m━━━━━━━━━━━━━━━━━━━━\u001b[0m\u001b[37m\u001b[0m \u001b[1m2s\u001b[0m 58ms/step - accuracy: 1.0000 - loss: 9.0960e-09 - val_accuracy: 0.8197 - val_loss: 0.4004\n",
            "Epoch 50/150\n",
            "\u001b[1m18/18\u001b[0m \u001b[32m━━━━━━━━━━━━━━━━━━━━\u001b[0m\u001b[37m\u001b[0m \u001b[1m1s\u001b[0m 48ms/step - accuracy: 1.0000 - loss: 4.8980e-09 - val_accuracy: 0.8197 - val_loss: 0.4002\n",
            "Epoch 51/150\n",
            "\u001b[1m18/18\u001b[0m \u001b[32m━━━━━━━━━━━━━━━━━━━━\u001b[0m\u001b[37m\u001b[0m \u001b[1m2s\u001b[0m 69ms/step - accuracy: 1.0000 - loss: 6.5585e-08 - val_accuracy: 0.8197 - val_loss: 0.3997\n",
            "Epoch 52/150\n",
            "\u001b[1m18/18\u001b[0m \u001b[32m━━━━━━━━━━━━━━━━━━━━\u001b[0m\u001b[37m\u001b[0m \u001b[1m2s\u001b[0m 50ms/step - accuracy: 1.0000 - loss: 1.2038e-08 - val_accuracy: 0.8197 - val_loss: 0.3990\n",
            "Epoch 53/150\n",
            "\u001b[1m18/18\u001b[0m \u001b[32m━━━━━━━━━━━━━━━━━━━━\u001b[0m\u001b[37m\u001b[0m \u001b[1m1s\u001b[0m 50ms/step - accuracy: 1.0000 - loss: 2.7752e-08 - val_accuracy: 0.8197 - val_loss: 0.3984\n",
            "Epoch 54/150\n",
            "\u001b[1m18/18\u001b[0m \u001b[32m━━━━━━━━━━━━━━━━━━━━\u001b[0m\u001b[37m\u001b[0m \u001b[1m1s\u001b[0m 50ms/step - accuracy: 1.0000 - loss: 1.5970e-08 - val_accuracy: 0.8197 - val_loss: 0.3979\n",
            "Epoch 55/150\n",
            "\u001b[1m18/18\u001b[0m \u001b[32m━━━━━━━━━━━━━━━━━━━━\u001b[0m\u001b[37m\u001b[0m \u001b[1m1s\u001b[0m 48ms/step - accuracy: 1.0000 - loss: 5.0855e-08 - val_accuracy: 0.8197 - val_loss: 0.3985\n",
            "Epoch 56/150\n",
            "\u001b[1m18/18\u001b[0m \u001b[32m━━━━━━━━━━━━━━━━━━━━\u001b[0m\u001b[37m\u001b[0m \u001b[1m1s\u001b[0m 48ms/step - accuracy: 1.0000 - loss: 8.1415e-08 - val_accuracy: 0.8197 - val_loss: 0.3992\n",
            "Epoch 57/150\n",
            "\u001b[1m18/18\u001b[0m \u001b[32m━━━━━━━━━━━━━━━━━━━━\u001b[0m\u001b[37m\u001b[0m \u001b[1m1s\u001b[0m 48ms/step - accuracy: 1.0000 - loss: 2.4758e-08 - val_accuracy: 0.8197 - val_loss: 0.3996\n",
            "Epoch 58/150\n",
            "\u001b[1m18/18\u001b[0m \u001b[32m━━━━━━━━━━━━━━━━━━━━\u001b[0m\u001b[37m\u001b[0m \u001b[1m1s\u001b[0m 50ms/step - accuracy: 1.0000 - loss: 2.7775e-08 - val_accuracy: 0.8197 - val_loss: 0.4002\n",
            "Epoch 59/150\n",
            "\u001b[1m18/18\u001b[0m \u001b[32m━━━━━━━━━━━━━━━━━━━━\u001b[0m\u001b[37m\u001b[0m \u001b[1m1s\u001b[0m 51ms/step - accuracy: 1.0000 - loss: 4.4369e-09 - val_accuracy: 0.8197 - val_loss: 0.4002\n",
            "Epoch 60/150\n",
            "\u001b[1m18/18\u001b[0m \u001b[32m━━━━━━━━━━━━━━━━━━━━\u001b[0m\u001b[37m\u001b[0m \u001b[1m1s\u001b[0m 49ms/step - accuracy: 1.0000 - loss: 2.4041e-07 - val_accuracy: 0.8197 - val_loss: 0.3966\n",
            "Epoch 61/150\n",
            "\u001b[1m18/18\u001b[0m \u001b[32m━━━━━━━━━━━━━━━━━━━━\u001b[0m\u001b[37m\u001b[0m \u001b[1m2s\u001b[0m 75ms/step - accuracy: 1.0000 - loss: 1.0558e-07 - val_accuracy: 0.8197 - val_loss: 0.3920\n",
            "Epoch 62/150\n",
            "\u001b[1m18/18\u001b[0m \u001b[32m━━━━━━━━━━━━━━━━━━━━\u001b[0m\u001b[37m\u001b[0m \u001b[1m2s\u001b[0m 51ms/step - accuracy: 1.0000 - loss: 1.8079e-08 - val_accuracy: 0.8197 - val_loss: 0.3898\n",
            "Epoch 63/150\n",
            "\u001b[1m18/18\u001b[0m \u001b[32m━━━━━━━━━━━━━━━━━━━━\u001b[0m\u001b[37m\u001b[0m \u001b[1m1s\u001b[0m 49ms/step - accuracy: 1.0000 - loss: 7.8936e-09 - val_accuracy: 0.8197 - val_loss: 0.3891\n",
            "Epoch 64/150\n",
            "\u001b[1m18/18\u001b[0m \u001b[32m━━━━━━━━━━━━━━━━━━━━\u001b[0m\u001b[37m\u001b[0m \u001b[1m1s\u001b[0m 51ms/step - accuracy: 1.0000 - loss: 5.5285e-08 - val_accuracy: 0.8361 - val_loss: 0.3867\n",
            "Epoch 65/150\n",
            "\u001b[1m18/18\u001b[0m \u001b[32m━━━━━━━━━━━━━━━━━━━━\u001b[0m\u001b[37m\u001b[0m \u001b[1m1s\u001b[0m 50ms/step - accuracy: 1.0000 - loss: 1.7582e-08 - val_accuracy: 0.8361 - val_loss: 0.3822\n",
            "Epoch 66/150\n",
            "\u001b[1m18/18\u001b[0m \u001b[32m━━━━━━━━━━━━━━━━━━━━\u001b[0m\u001b[37m\u001b[0m \u001b[1m1s\u001b[0m 48ms/step - accuracy: 1.0000 - loss: 7.0890e-09 - val_accuracy: 0.8361 - val_loss: 0.3800\n",
            "Epoch 67/150\n",
            "\u001b[1m18/18\u001b[0m \u001b[32m━━━━━━━━━━━━━━━━━━━━\u001b[0m\u001b[37m\u001b[0m \u001b[1m1s\u001b[0m 46ms/step - accuracy: 1.0000 - loss: 2.7903e-09 - val_accuracy: 0.8361 - val_loss: 0.3789\n",
            "Epoch 68/150\n",
            "\u001b[1m18/18\u001b[0m \u001b[32m━━━━━━━━━━━━━━━━━━━━\u001b[0m\u001b[37m\u001b[0m \u001b[1m1s\u001b[0m 48ms/step - accuracy: 1.0000 - loss: 9.8763e-09 - val_accuracy: 0.8361 - val_loss: 0.3778\n",
            "Epoch 69/150\n",
            "\u001b[1m18/18\u001b[0m \u001b[32m━━━━━━━━━━━━━━━━━━━━\u001b[0m\u001b[37m\u001b[0m \u001b[1m1s\u001b[0m 49ms/step - accuracy: 1.0000 - loss: 7.2884e-09 - val_accuracy: 0.8361 - val_loss: 0.3775\n",
            "Epoch 70/150\n",
            "\u001b[1m18/18\u001b[0m \u001b[32m━━━━━━━━━━━━━━━━━━━━\u001b[0m\u001b[37m\u001b[0m \u001b[1m1s\u001b[0m 59ms/step - accuracy: 1.0000 - loss: 2.1204e-09 - val_accuracy: 0.8361 - val_loss: 0.3775\n",
            "Epoch 71/150\n",
            "\u001b[1m18/18\u001b[0m \u001b[32m━━━━━━━━━━━━━━━━━━━━\u001b[0m\u001b[37m\u001b[0m \u001b[1m2s\u001b[0m 76ms/step - accuracy: 1.0000 - loss: 2.3381e-08 - val_accuracy: 0.8361 - val_loss: 0.3781\n",
            "Epoch 72/150\n",
            "\u001b[1m18/18\u001b[0m \u001b[32m━━━━━━━━━━━━━━━━━━━━\u001b[0m\u001b[37m\u001b[0m \u001b[1m2s\u001b[0m 50ms/step - accuracy: 1.0000 - loss: 1.9930e-08 - val_accuracy: 0.8361 - val_loss: 0.3787\n",
            "Epoch 73/150\n",
            "\u001b[1m18/18\u001b[0m \u001b[32m━━━━━━━━━━━━━━━━━━━━\u001b[0m\u001b[37m\u001b[0m \u001b[1m1s\u001b[0m 50ms/step - accuracy: 1.0000 - loss: 1.0001e-07 - val_accuracy: 0.8361 - val_loss: 0.3841\n",
            "Epoch 74/150\n",
            "\u001b[1m18/18\u001b[0m \u001b[32m━━━━━━━━━━━━━━━━━━━━\u001b[0m\u001b[37m\u001b[0m \u001b[1m1s\u001b[0m 52ms/step - accuracy: 1.0000 - loss: 2.7188e-08 - val_accuracy: 0.8361 - val_loss: 0.3852\n",
            "Epoch 75/150\n",
            "\u001b[1m18/18\u001b[0m \u001b[32m━━━━━━━━━━━━━━━━━━━━\u001b[0m\u001b[37m\u001b[0m \u001b[1m1s\u001b[0m 48ms/step - accuracy: 1.0000 - loss: 5.3906e-09 - val_accuracy: 0.8361 - val_loss: 0.3855\n",
            "Epoch 76/150\n",
            "\u001b[1m18/18\u001b[0m \u001b[32m━━━━━━━━━━━━━━━━━━━━\u001b[0m\u001b[37m\u001b[0m \u001b[1m1s\u001b[0m 49ms/step - accuracy: 1.0000 - loss: 1.4949e-08 - val_accuracy: 0.8361 - val_loss: 0.3862\n",
            "Epoch 77/150\n",
            "\u001b[1m18/18\u001b[0m \u001b[32m━━━━━━━━━━━━━━━━━━━━\u001b[0m\u001b[37m\u001b[0m \u001b[1m1s\u001b[0m 49ms/step - accuracy: 1.0000 - loss: 3.2415e-07 - val_accuracy: 0.8361 - val_loss: 0.3809\n",
            "Epoch 78/150\n",
            "\u001b[1m18/18\u001b[0m \u001b[32m━━━━━━━━━━━━━━━━━━━━\u001b[0m\u001b[37m\u001b[0m \u001b[1m1s\u001b[0m 51ms/step - accuracy: 1.0000 - loss: 4.3219e-08 - val_accuracy: 0.8361 - val_loss: 0.3777\n",
            "Epoch 79/150\n",
            "\u001b[1m18/18\u001b[0m \u001b[32m━━━━━━━━━━━━━━━━━━━━\u001b[0m\u001b[37m\u001b[0m \u001b[1m2s\u001b[0m 69ms/step - accuracy: 1.0000 - loss: 5.8622e-08 - val_accuracy: 0.8361 - val_loss: 0.3754\n",
            "Epoch 80/150\n",
            "\u001b[1m18/18\u001b[0m \u001b[32m━━━━━━━━━━━━━━━━━━━━\u001b[0m\u001b[37m\u001b[0m \u001b[1m2s\u001b[0m 89ms/step - accuracy: 1.0000 - loss: 1.5410e-06 - val_accuracy: 0.8525 - val_loss: 0.3562\n",
            "Epoch 81/150\n",
            "\u001b[1m18/18\u001b[0m \u001b[32m━━━━━━━━━━━━━━━━━━━━\u001b[0m\u001b[37m\u001b[0m \u001b[1m2s\u001b[0m 83ms/step - accuracy: 1.0000 - loss: 3.5295e-09 - val_accuracy: 0.8852 - val_loss: 0.3420\n",
            "Epoch 82/150\n",
            "\u001b[1m18/18\u001b[0m \u001b[32m━━━━━━━━━━━━━━━━━━━━\u001b[0m\u001b[37m\u001b[0m \u001b[1m2s\u001b[0m 48ms/step - accuracy: 1.0000 - loss: 2.1359e-09 - val_accuracy: 0.8852 - val_loss: 0.3398\n",
            "Epoch 83/150\n",
            "\u001b[1m18/18\u001b[0m \u001b[32m━━━━━━━━━━━━━━━━━━━━\u001b[0m\u001b[37m\u001b[0m \u001b[1m1s\u001b[0m 48ms/step - accuracy: 1.0000 - loss: 1.8330e-08 - val_accuracy: 0.8852 - val_loss: 0.3403\n",
            "Epoch 84/150\n",
            "\u001b[1m18/18\u001b[0m \u001b[32m━━━━━━━━━━━━━━━━━━━━\u001b[0m\u001b[37m\u001b[0m \u001b[1m1s\u001b[0m 48ms/step - accuracy: 1.0000 - loss: 5.5789e-09 - val_accuracy: 0.8852 - val_loss: 0.3411\n",
            "Epoch 85/150\n",
            "\u001b[1m18/18\u001b[0m \u001b[32m━━━━━━━━━━━━━━━━━━━━\u001b[0m\u001b[37m\u001b[0m \u001b[1m1s\u001b[0m 49ms/step - accuracy: 1.0000 - loss: 6.4916e-07 - val_accuracy: 0.8852 - val_loss: 0.3576\n",
            "Epoch 86/150\n",
            "\u001b[1m18/18\u001b[0m \u001b[32m━━━━━━━━━━━━━━━━━━━━\u001b[0m\u001b[37m\u001b[0m \u001b[1m1s\u001b[0m 51ms/step - accuracy: 1.0000 - loss: 1.9994e-09 - val_accuracy: 0.8689 - val_loss: 0.3626\n",
            "Epoch 87/150\n",
            "\u001b[1m18/18\u001b[0m \u001b[32m━━━━━━━━━━━━━━━━━━━━\u001b[0m\u001b[37m\u001b[0m \u001b[1m1s\u001b[0m 49ms/step - accuracy: 1.0000 - loss: 5.4121e-09 - val_accuracy: 0.8689 - val_loss: 0.3635\n",
            "Epoch 88/150\n",
            "\u001b[1m18/18\u001b[0m \u001b[32m━━━━━━━━━━━━━━━━━━━━\u001b[0m\u001b[37m\u001b[0m \u001b[1m1s\u001b[0m 48ms/step - accuracy: 1.0000 - loss: 5.6474e-09 - val_accuracy: 0.8689 - val_loss: 0.3636\n",
            "Epoch 89/150\n",
            "\u001b[1m18/18\u001b[0m \u001b[32m━━━━━━━━━━━━━━━━━━━━\u001b[0m\u001b[37m\u001b[0m \u001b[1m1s\u001b[0m 48ms/step - accuracy: 1.0000 - loss: 8.6108e-09 - val_accuracy: 0.8689 - val_loss: 0.3640\n",
            "Epoch 90/150\n",
            "\u001b[1m18/18\u001b[0m \u001b[32m━━━━━━━━━━━━━━━━━━━━\u001b[0m\u001b[37m\u001b[0m \u001b[1m1s\u001b[0m 55ms/step - accuracy: 1.0000 - loss: 9.0739e-09 - val_accuracy: 0.8689 - val_loss: 0.3650\n",
            "Epoch 91/150\n",
            "\u001b[1m18/18\u001b[0m \u001b[32m━━━━━━━━━━━━━━━━━━━━\u001b[0m\u001b[37m\u001b[0m \u001b[1m1s\u001b[0m 81ms/step - accuracy: 1.0000 - loss: 1.2893e-08 - val_accuracy: 0.8689 - val_loss: 0.3646\n",
            "Epoch 92/150\n",
            "\u001b[1m18/18\u001b[0m \u001b[32m━━━━━━━━━━━━━━━━━━━━\u001b[0m\u001b[37m\u001b[0m \u001b[1m1s\u001b[0m 67ms/step - accuracy: 1.0000 - loss: 2.8095e-09 - val_accuracy: 0.8689 - val_loss: 0.3639\n",
            "Epoch 93/150\n",
            "\u001b[1m18/18\u001b[0m \u001b[32m━━━━━━━━━━━━━━━━━━━━\u001b[0m\u001b[37m\u001b[0m \u001b[1m1s\u001b[0m 52ms/step - accuracy: 1.0000 - loss: 1.1291e-08 - val_accuracy: 0.8689 - val_loss: 0.3635\n",
            "Epoch 94/150\n",
            "\u001b[1m18/18\u001b[0m \u001b[32m━━━━━━━━━━━━━━━━━━━━\u001b[0m\u001b[37m\u001b[0m \u001b[1m1s\u001b[0m 49ms/step - accuracy: 1.0000 - loss: 1.5939e-09 - val_accuracy: 0.8689 - val_loss: 0.3634\n",
            "Epoch 95/150\n",
            "\u001b[1m18/18\u001b[0m \u001b[32m━━━━━━━━━━━━━━━━━━━━\u001b[0m\u001b[37m\u001b[0m \u001b[1m1s\u001b[0m 49ms/step - accuracy: 1.0000 - loss: 3.6587e-10 - val_accuracy: 0.8689 - val_loss: 0.3634\n",
            "Epoch 96/150\n",
            "\u001b[1m18/18\u001b[0m \u001b[32m━━━━━━━━━━━━━━━━━━━━\u001b[0m\u001b[37m\u001b[0m \u001b[1m1s\u001b[0m 51ms/step - accuracy: 1.0000 - loss: 1.7704e-08 - val_accuracy: 0.8689 - val_loss: 0.3633\n",
            "Epoch 97/150\n",
            "\u001b[1m18/18\u001b[0m \u001b[32m━━━━━━━━━━━━━━━━━━━━\u001b[0m\u001b[37m\u001b[0m \u001b[1m1s\u001b[0m 51ms/step - accuracy: 1.0000 - loss: 2.7147e-09 - val_accuracy: 0.8689 - val_loss: 0.3630\n",
            "Epoch 98/150\n",
            "\u001b[1m18/18\u001b[0m \u001b[32m━━━━━━━━━━━━━━━━━━━━\u001b[0m\u001b[37m\u001b[0m \u001b[1m1s\u001b[0m 50ms/step - accuracy: 1.0000 - loss: 1.7773e-09 - val_accuracy: 0.8689 - val_loss: 0.3626\n",
            "Epoch 99/150\n",
            "\u001b[1m18/18\u001b[0m \u001b[32m━━━━━━━━━━━━━━━━━━━━\u001b[0m\u001b[37m\u001b[0m \u001b[1m1s\u001b[0m 48ms/step - accuracy: 1.0000 - loss: 4.7651e-09 - val_accuracy: 0.8689 - val_loss: 0.3624\n",
            "Epoch 100/150\n",
            "\u001b[1m18/18\u001b[0m \u001b[32m━━━━━━━━━━━━━━━━━━━━\u001b[0m\u001b[37m\u001b[0m \u001b[1m1s\u001b[0m 48ms/step - accuracy: 1.0000 - loss: 4.0364e-08 - val_accuracy: 0.8852 - val_loss: 0.3619\n",
            "Epoch 101/150\n",
            "\u001b[1m18/18\u001b[0m \u001b[32m━━━━━━━━━━━━━━━━━━━━\u001b[0m\u001b[37m\u001b[0m \u001b[1m1s\u001b[0m 48ms/step - accuracy: 1.0000 - loss: 5.5121e-08 - val_accuracy: 0.8852 - val_loss: 0.3609\n",
            "Epoch 102/150\n",
            "\u001b[1m18/18\u001b[0m \u001b[32m━━━━━━━━━━━━━━━━━━━━\u001b[0m\u001b[37m\u001b[0m \u001b[1m1s\u001b[0m 74ms/step - accuracy: 1.0000 - loss: 2.0423e-08 - val_accuracy: 0.8852 - val_loss: 0.3612\n",
            "Epoch 103/150\n",
            "\u001b[1m18/18\u001b[0m \u001b[32m━━━━━━━━━━━━━━━━━━━━\u001b[0m\u001b[37m\u001b[0m \u001b[1m2s\u001b[0m 50ms/step - accuracy: 1.0000 - loss: 9.3540e-11 - val_accuracy: 0.8852 - val_loss: 0.3613\n",
            "Epoch 104/150\n",
            "\u001b[1m18/18\u001b[0m \u001b[32m━━━━━━━━━━━━━━━━━━━━\u001b[0m\u001b[37m\u001b[0m \u001b[1m1s\u001b[0m 48ms/step - accuracy: 1.0000 - loss: 2.9645e-09 - val_accuracy: 0.8852 - val_loss: 0.3614\n",
            "Epoch 105/150\n",
            "\u001b[1m18/18\u001b[0m \u001b[32m━━━━━━━━━━━━━━━━━━━━\u001b[0m\u001b[37m\u001b[0m \u001b[1m1s\u001b[0m 49ms/step - accuracy: 1.0000 - loss: 3.6744e-08 - val_accuracy: 0.8689 - val_loss: 0.3627\n",
            "Epoch 106/150\n",
            "\u001b[1m18/18\u001b[0m \u001b[32m━━━━━━━━━━━━━━━━━━━━\u001b[0m\u001b[37m\u001b[0m \u001b[1m1s\u001b[0m 51ms/step - accuracy: 1.0000 - loss: 3.2617e-09 - val_accuracy: 0.8689 - val_loss: 0.3633\n",
            "Epoch 107/150\n",
            "\u001b[1m18/18\u001b[0m \u001b[32m━━━━━━━━━━━━━━━━━━━━\u001b[0m\u001b[37m\u001b[0m \u001b[1m1s\u001b[0m 50ms/step - accuracy: 1.0000 - loss: 0.0000e+00 - val_accuracy: 0.8689 - val_loss: 0.3635\n",
            "Epoch 108/150\n",
            "\u001b[1m18/18\u001b[0m \u001b[32m━━━━━━━━━━━━━━━━━━━━\u001b[0m\u001b[37m\u001b[0m \u001b[1m1s\u001b[0m 48ms/step - accuracy: 1.0000 - loss: 4.0947e-09 - val_accuracy: 0.8689 - val_loss: 0.3632\n",
            "Epoch 109/150\n",
            "\u001b[1m18/18\u001b[0m \u001b[32m━━━━━━━━━━━━━━━━━━━━\u001b[0m\u001b[37m\u001b[0m \u001b[1m1s\u001b[0m 50ms/step - accuracy: 1.0000 - loss: 5.8791e-09 - val_accuracy: 0.8689 - val_loss: 0.3628\n",
            "Epoch 110/150\n",
            "\u001b[1m18/18\u001b[0m \u001b[32m━━━━━━━━━━━━━━━━━━━━\u001b[0m\u001b[37m\u001b[0m \u001b[1m1s\u001b[0m 47ms/step - accuracy: 1.0000 - loss: 1.0646e-09 - val_accuracy: 0.8689 - val_loss: 0.3626\n",
            "Epoch 111/150\n",
            "\u001b[1m18/18\u001b[0m \u001b[32m━━━━━━━━━━━━━━━━━━━━\u001b[0m\u001b[37m\u001b[0m \u001b[1m2s\u001b[0m 63ms/step - accuracy: 1.0000 - loss: 2.3973e-09 - val_accuracy: 0.8689 - val_loss: 0.3624\n",
            "Epoch 112/150\n",
            "\u001b[1m18/18\u001b[0m \u001b[32m━━━━━━━━━━━━━━━━━━━━\u001b[0m\u001b[37m\u001b[0m \u001b[1m2s\u001b[0m 79ms/step - accuracy: 1.0000 - loss: 4.4009e-09 - val_accuracy: 0.8689 - val_loss: 0.3623\n",
            "Epoch 113/150\n",
            "\u001b[1m18/18\u001b[0m \u001b[32m━━━━━━━━━━━━━━━━━━━━\u001b[0m\u001b[37m\u001b[0m \u001b[1m1s\u001b[0m 63ms/step - accuracy: 1.0000 - loss: 5.7356e-09 - val_accuracy: 0.8689 - val_loss: 0.3619\n",
            "Epoch 114/150\n",
            "\u001b[1m18/18\u001b[0m \u001b[32m━━━━━━━━━━━━━━━━━━━━\u001b[0m\u001b[37m\u001b[0m \u001b[1m1s\u001b[0m 48ms/step - accuracy: 1.0000 - loss: 1.0561e-07 - val_accuracy: 0.8689 - val_loss: 0.3625\n",
            "Epoch 115/150\n",
            "\u001b[1m18/18\u001b[0m \u001b[32m━━━━━━━━━━━━━━━━━━━━\u001b[0m\u001b[37m\u001b[0m \u001b[1m1s\u001b[0m 48ms/step - accuracy: 1.0000 - loss: 3.9777e-09 - val_accuracy: 0.8689 - val_loss: 0.3644\n",
            "Epoch 116/150\n",
            "\u001b[1m18/18\u001b[0m \u001b[32m━━━━━━━━━━━━━━━━━━━━\u001b[0m\u001b[37m\u001b[0m \u001b[1m1s\u001b[0m 48ms/step - accuracy: 1.0000 - loss: 3.0089e-08 - val_accuracy: 0.8689 - val_loss: 0.3644\n",
            "Epoch 117/150\n",
            "\u001b[1m18/18\u001b[0m \u001b[32m━━━━━━━━━━━━━━━━━━━━\u001b[0m\u001b[37m\u001b[0m \u001b[1m1s\u001b[0m 50ms/step - accuracy: 1.0000 - loss: 1.1573e-09 - val_accuracy: 0.8689 - val_loss: 0.3645\n",
            "Epoch 118/150\n",
            "\u001b[1m18/18\u001b[0m \u001b[32m━━━━━━━━━━━━━━━━━━━━\u001b[0m\u001b[37m\u001b[0m \u001b[1m1s\u001b[0m 50ms/step - accuracy: 1.0000 - loss: 7.4515e-09 - val_accuracy: 0.8689 - val_loss: 0.3646\n",
            "Epoch 119/150\n",
            "\u001b[1m18/18\u001b[0m \u001b[32m━━━━━━━━━━━━━━━━━━━━\u001b[0m\u001b[37m\u001b[0m \u001b[1m1s\u001b[0m 49ms/step - accuracy: 1.0000 - loss: 8.5575e-09 - val_accuracy: 0.8689 - val_loss: 0.3648\n",
            "Epoch 120/150\n",
            "\u001b[1m18/18\u001b[0m \u001b[32m━━━━━━━━━━━━━━━━━━━━\u001b[0m\u001b[37m\u001b[0m \u001b[1m1s\u001b[0m 51ms/step - accuracy: 1.0000 - loss: 1.7973e-09 - val_accuracy: 0.8689 - val_loss: 0.3650\n",
            "Epoch 121/150\n",
            "\u001b[1m18/18\u001b[0m \u001b[32m━━━━━━━━━━━━━━━━━━━━\u001b[0m\u001b[37m\u001b[0m \u001b[1m1s\u001b[0m 50ms/step - accuracy: 1.0000 - loss: 5.1605e-10 - val_accuracy: 0.8689 - val_loss: 0.3650\n",
            "Epoch 122/150\n",
            "\u001b[1m18/18\u001b[0m \u001b[32m━━━━━━━━━━━━━━━━━━━━\u001b[0m\u001b[37m\u001b[0m \u001b[1m2s\u001b[0m 75ms/step - accuracy: 1.0000 - loss: 3.4968e-09 - val_accuracy: 0.8689 - val_loss: 0.3653\n",
            "Epoch 123/150\n",
            "\u001b[1m18/18\u001b[0m \u001b[32m━━━━━━━━━━━━━━━━━━━━\u001b[0m\u001b[37m\u001b[0m \u001b[1m1s\u001b[0m 77ms/step - accuracy: 1.0000 - loss: 2.1855e-07 - val_accuracy: 0.8689 - val_loss: 0.3620\n",
            "Epoch 124/150\n",
            "\u001b[1m18/18\u001b[0m \u001b[32m━━━━━━━━━━━━━━━━━━━━\u001b[0m\u001b[37m\u001b[0m \u001b[1m2s\u001b[0m 49ms/step - accuracy: 1.0000 - loss: 1.1098e-09 - val_accuracy: 0.8689 - val_loss: 0.3612\n",
            "Epoch 125/150\n",
            "\u001b[1m18/18\u001b[0m \u001b[32m━━━━━━━━━━━━━━━━━━━━\u001b[0m\u001b[37m\u001b[0m \u001b[1m1s\u001b[0m 48ms/step - accuracy: 1.0000 - loss: 2.1729e-09 - val_accuracy: 0.8689 - val_loss: 0.3609\n",
            "Epoch 126/150\n",
            "\u001b[1m18/18\u001b[0m \u001b[32m━━━━━━━━━━━━━━━━━━━━\u001b[0m\u001b[37m\u001b[0m \u001b[1m1s\u001b[0m 49ms/step - accuracy: 1.0000 - loss: 3.2931e-09 - val_accuracy: 0.8689 - val_loss: 0.3607\n",
            "Epoch 127/150\n",
            "\u001b[1m18/18\u001b[0m \u001b[32m━━━━━━━━━━━━━━━━━━━━\u001b[0m\u001b[37m\u001b[0m \u001b[1m1s\u001b[0m 49ms/step - accuracy: 1.0000 - loss: 7.2912e-08 - val_accuracy: 0.8689 - val_loss: 0.3573\n",
            "Epoch 128/150\n",
            "\u001b[1m18/18\u001b[0m \u001b[32m━━━━━━━━━━━━━━━━━━━━\u001b[0m\u001b[37m\u001b[0m \u001b[1m1s\u001b[0m 50ms/step - accuracy: 1.0000 - loss: 5.4826e-08 - val_accuracy: 0.8852 - val_loss: 0.3543\n",
            "Epoch 129/150\n",
            "\u001b[1m18/18\u001b[0m \u001b[32m━━━━━━━━━━━━━━━━━━━━\u001b[0m\u001b[37m\u001b[0m \u001b[1m1s\u001b[0m 51ms/step - accuracy: 1.0000 - loss: 9.4259e-09 - val_accuracy: 0.8852 - val_loss: 0.3539\n",
            "Epoch 130/150\n",
            "\u001b[1m18/18\u001b[0m \u001b[32m━━━━━━━━━━━━━━━━━━━━\u001b[0m\u001b[37m\u001b[0m \u001b[1m1s\u001b[0m 51ms/step - accuracy: 1.0000 - loss: 1.7452e-08 - val_accuracy: 0.8852 - val_loss: 0.3542\n",
            "Epoch 131/150\n",
            "\u001b[1m18/18\u001b[0m \u001b[32m━━━━━━━━━━━━━━━━━━━━\u001b[0m\u001b[37m\u001b[0m \u001b[1m1s\u001b[0m 50ms/step - accuracy: 1.0000 - loss: 1.1792e-06 - val_accuracy: 0.8852 - val_loss: 0.3430\n",
            "Epoch 132/150\n",
            "\u001b[1m18/18\u001b[0m \u001b[32m━━━━━━━━━━━━━━━━━━━━\u001b[0m\u001b[37m\u001b[0m \u001b[1m1s\u001b[0m 58ms/step - accuracy: 1.0000 - loss: 2.4618e-10 - val_accuracy: 0.8852 - val_loss: 0.3406\n",
            "Epoch 133/150\n",
            "\u001b[1m18/18\u001b[0m \u001b[32m━━━━━━━━━━━━━━━━━━━━\u001b[0m\u001b[37m\u001b[0m \u001b[1m1s\u001b[0m 70ms/step - accuracy: 1.0000 - loss: 2.4388e-09 - val_accuracy: 0.8852 - val_loss: 0.3402\n",
            "Epoch 134/150\n",
            "\u001b[1m18/18\u001b[0m \u001b[32m━━━━━━━━━━━━━━━━━━━━\u001b[0m\u001b[37m\u001b[0m \u001b[1m1s\u001b[0m 68ms/step - accuracy: 1.0000 - loss: 1.6996e-09 - val_accuracy: 0.8852 - val_loss: 0.3399\n",
            "Epoch 135/150\n",
            "\u001b[1m18/18\u001b[0m \u001b[32m━━━━━━━━━━━━━━━━━━━━\u001b[0m\u001b[37m\u001b[0m \u001b[1m1s\u001b[0m 49ms/step - accuracy: 1.0000 - loss: 9.7103e-09 - val_accuracy: 0.8852 - val_loss: 0.3394\n",
            "Epoch 136/150\n",
            "\u001b[1m18/18\u001b[0m \u001b[32m━━━━━━━━━━━━━━━━━━━━\u001b[0m\u001b[37m\u001b[0m \u001b[1m1s\u001b[0m 49ms/step - accuracy: 1.0000 - loss: 5.3593e-08 - val_accuracy: 0.8852 - val_loss: 0.3392\n",
            "Epoch 137/150\n",
            "\u001b[1m18/18\u001b[0m \u001b[32m━━━━━━━━━━━━━━━━━━━━\u001b[0m\u001b[37m\u001b[0m \u001b[1m1s\u001b[0m 49ms/step - accuracy: 1.0000 - loss: 5.9218e-09 - val_accuracy: 0.8852 - val_loss: 0.3396\n",
            "Epoch 138/150\n",
            "\u001b[1m18/18\u001b[0m \u001b[32m━━━━━━━━━━━━━━━━━━━━\u001b[0m\u001b[37m\u001b[0m \u001b[1m1s\u001b[0m 50ms/step - accuracy: 1.0000 - loss: 1.7481e-09 - val_accuracy: 0.8852 - val_loss: 0.3397\n",
            "Epoch 139/150\n",
            "\u001b[1m18/18\u001b[0m \u001b[32m━━━━━━━━━━━━━━━━━━━━\u001b[0m\u001b[37m\u001b[0m \u001b[1m1s\u001b[0m 50ms/step - accuracy: 1.0000 - loss: 3.7982e-09 - val_accuracy: 0.8852 - val_loss: 0.3399\n",
            "Epoch 140/150\n",
            "\u001b[1m18/18\u001b[0m \u001b[32m━━━━━━━━━━━━━━━━━━━━\u001b[0m\u001b[37m\u001b[0m \u001b[1m1s\u001b[0m 51ms/step - accuracy: 1.0000 - loss: 1.0026e-09 - val_accuracy: 0.8852 - val_loss: 0.3401\n",
            "Epoch 141/150\n",
            "\u001b[1m18/18\u001b[0m \u001b[32m━━━━━━━━━━━━━━━━━━━━\u001b[0m\u001b[37m\u001b[0m \u001b[1m1s\u001b[0m 50ms/step - accuracy: 1.0000 - loss: 7.9327e-09 - val_accuracy: 0.8852 - val_loss: 0.3403\n",
            "Epoch 142/150\n",
            "\u001b[1m18/18\u001b[0m \u001b[32m━━━━━━━━━━━━━━━━━━━━\u001b[0m\u001b[37m\u001b[0m \u001b[1m1s\u001b[0m 52ms/step - accuracy: 1.0000 - loss: 1.8329e-09 - val_accuracy: 0.8852 - val_loss: 0.3404\n",
            "Epoch 143/150\n",
            "\u001b[1m18/18\u001b[0m \u001b[32m━━━━━━━━━━━━━━━━━━━━\u001b[0m\u001b[37m\u001b[0m \u001b[1m1s\u001b[0m 50ms/step - accuracy: 1.0000 - loss: 2.7964e-08 - val_accuracy: 0.8852 - val_loss: 0.3410\n",
            "Epoch 144/150\n",
            "\u001b[1m18/18\u001b[0m \u001b[32m━━━━━━━━━━━━━━━━━━━━\u001b[0m\u001b[37m\u001b[0m \u001b[1m1s\u001b[0m 61ms/step - accuracy: 1.0000 - loss: 9.2618e-10 - val_accuracy: 0.8852 - val_loss: 0.3411\n",
            "Epoch 145/150\n",
            "\u001b[1m18/18\u001b[0m \u001b[32m━━━━━━━━━━━━━━━━━━━━\u001b[0m\u001b[37m\u001b[0m \u001b[1m2s\u001b[0m 79ms/step - accuracy: 1.0000 - loss: 1.5163e-09 - val_accuracy: 0.8852 - val_loss: 0.3413\n",
            "Epoch 146/150\n",
            "\u001b[1m18/18\u001b[0m \u001b[32m━━━━━━━━━━━━━━━━━━━━\u001b[0m\u001b[37m\u001b[0m \u001b[1m2s\u001b[0m 50ms/step - accuracy: 1.0000 - loss: 4.2231e-08 - val_accuracy: 0.8852 - val_loss: 0.3390\n",
            "Epoch 147/150\n",
            "\u001b[1m18/18\u001b[0m \u001b[32m━━━━━━━━━━━━━━━━━━━━\u001b[0m\u001b[37m\u001b[0m \u001b[1m1s\u001b[0m 51ms/step - accuracy: 1.0000 - loss: 7.8428e-08 - val_accuracy: 0.8852 - val_loss: 0.3386\n",
            "Epoch 148/150\n",
            "\u001b[1m18/18\u001b[0m \u001b[32m━━━━━━━━━━━━━━━━━━━━\u001b[0m\u001b[37m\u001b[0m \u001b[1m1s\u001b[0m 49ms/step - accuracy: 1.0000 - loss: 8.2358e-08 - val_accuracy: 0.8852 - val_loss: 0.3360\n",
            "Epoch 149/150\n",
            "\u001b[1m18/18\u001b[0m \u001b[32m━━━━━━━━━━━━━━━━━━━━\u001b[0m\u001b[37m\u001b[0m \u001b[1m1s\u001b[0m 49ms/step - accuracy: 1.0000 - loss: 6.9948e-09 - val_accuracy: 0.8852 - val_loss: 0.3321\n",
            "Epoch 150/150\n",
            "\u001b[1m18/18\u001b[0m \u001b[32m━━━━━━━━━━━━━━━━━━━━\u001b[0m\u001b[37m\u001b[0m \u001b[1m1s\u001b[0m 51ms/step - accuracy: 1.0000 - loss: 5.4279e-10 - val_accuracy: 0.8852 - val_loss: 0.3315\n"
          ]
        }
      ],
      "source": [
        "# Обучение модели\n",
        "history = model.fit(\n",
        "    x_train,\n",
        "    y_train,\n",
        "    epochs=150,\n",
        "    batch_size=16,\n",
        "    validation_data=(x_test, y_test),\n",
        "    verbose=1,\n",
        ")"
      ]
    },
    {
      "cell_type": "code",
      "source": [
        "loss, accuracy = model.evaluate(x_test, y_test, verbose=1)\n",
        "print(f\"Точность на проверочной выборке: {accuracy:.4f}\")"
      ],
      "metadata": {
        "colab": {
          "base_uri": "https://localhost:8080/"
        },
        "id": "7u5ZpuqqhVYX",
        "outputId": "0c91af34-88ec-4a46-b274-d0795b1e7975"
      },
      "execution_count": 98,
      "outputs": [
        {
          "output_type": "stream",
          "name": "stdout",
          "text": [
            "\u001b[1m2/2\u001b[0m \u001b[32m━━━━━━━━━━━━━━━━━━━━\u001b[0m\u001b[37m\u001b[0m \u001b[1m0s\u001b[0m 54ms/step - accuracy: 0.8506 - loss: 0.4316\n",
            "Точность на проверочной выборке: 0.8852\n"
          ]
        }
      ]
    },
    {
      "cell_type": "code",
      "execution_count": 99,
      "metadata": {
        "colab": {
          "base_uri": "https://localhost:8080/",
          "height": 331
        },
        "id": "1Rf7rbkWezv0",
        "outputId": "2a154bfa-8906-4dab-9112-4212d4e0fe62"
      },
      "outputs": [
        {
          "output_type": "display_data",
          "data": {
            "text/plain": [
              "<Figure size 2000x500 with 2 Axes>"
            ],
            "image/png": "[encoded data removed]"
          },
          "metadata": {}
        }
      ],
      "source": [
        "# Построение графиков процесса обуения модели\n",
        "fig, (ax1, ax2) = plt.subplots(1, 2, figsize=(20, 5))\n",
        "fig.suptitle(\"График процесса обучения модели\")\n",
        "ax1.plot(\n",
        "    history.history[\"accuracy\"], label=\"Доля верных ответов на обучающем наборе\"\n",
        ")\n",
        "ax1.plot(\n",
        "    history.history[\"val_accuracy\"],\n",
        "    label=\"Доля верных ответов на проверочном наборе\",\n",
        ")\n",
        "ax1.xaxis.get_major_locator().set_params(integer=True)\n",
        "ax1.set_xlabel(\"Эпоха обучения\")\n",
        "ax1.set_ylabel(\"Доля верных ответов\")\n",
        "ax1.legend()\n",
        "\n",
        "ax2.plot(history.history[\"loss\"], label=\"Ошибка на обучающем наборе\")\n",
        "ax2.plot(history.history[\"val_loss\"], label=\"Ошибка на проверочном наборе\")\n",
        "ax2.xaxis.get_major_locator().set_params(integer=True)\n",
        "ax2.set_xlabel(\"Эпоха обучения\")\n",
        "ax2.set_ylabel(\"Ошибка\")\n",
        "ax2.legend()\n",
        "plt.show()"
      ]
    }
  ],
  "metadata": {
    "colab": {
      "provenance": [],
      "gpuType": "T4"
    },
    "kernelspec": {
      "display_name": "Python 3",
      "name": "python3"
    },
    "language_info": {
      "codemirror_mode": {
        "name": "ipython",
        "version": 3
      },
      "file_extension": ".py",
      "mimetype": "text/x-python",
      "name": "python",
      "nbconvert_exporter": "python",
      "pygments_lexer": "ipython3",
      "version": "3.12.3"
    },
    "accelerator": "GPU"
  },
  "nbformat": 4,
  "nbformat_minor": 0
}